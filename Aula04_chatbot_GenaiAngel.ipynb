{
  "nbformat": 4,
  "nbformat_minor": 0,
  "metadata": {
    "colab": {
      "provenance": [],
      "authorship_tag": "ABX9TyNt7wnKKHwwcQbrjg4yoR87",
      "include_colab_link": true
    },
    "kernelspec": {
      "name": "python3",
      "display_name": "Python 3"
    },
    "language_info": {
      "name": "python"
    }
  },
  "cells": [
    {
      "cell_type": "markdown",
      "metadata": {
        "id": "view-in-github",
        "colab_type": "text"
      },
      "source": [
        "<a href=\"https://colab.research.google.com/github/MMatsuokaM/GenaiAngel_chatbot_imersaoAula04/blob/main/Aula04_chatbot_GenaiAngel.ipynb\" target=\"_parent\"><img src=\"https://colab.research.google.com/assets/colab-badge.svg\" alt=\"Open In Colab\"/></a>"
      ]
    },
    {
      "cell_type": "code",
      "execution_count": 82,
      "metadata": {
        "id": "VFzKQQHWkljp"
      },
      "outputs": [],
      "source": [
        "!pip install -q -U google-generativeai"
      ]
    },
    {
      "cell_type": "code",
      "source": [
        "import pathlib\n",
        "import textwrap\n",
        "import random\n",
        "\n",
        "from IPython.display import display\n",
        "from IPython.display import Markdown\n",
        "\n",
        "def to_markdown(text):\n",
        "  text = text.replace('•', '  *')\n",
        "  return Markdown(textwrap.indent(text, '> ', predicate=lambda _: True))"
      ],
      "metadata": {
        "id": "oTBV0Ug5E4lZ"
      },
      "execution_count": 83,
      "outputs": []
    },
    {
      "cell_type": "markdown",
      "source": [
        "**Importando a chave da api key via SECRET do Colab**\n",
        "\n",
        "---\n",
        "\n"
      ],
      "metadata": {
        "id": "VJHBgp7cz2qe"
      }
    },
    {
      "cell_type": "code",
      "source": [
        "import google.generativeai as genai\n",
        "from google.colab import userdata\n",
        "api_key = userdata.get('SECRET_KEY')\n",
        "genai.configure(api_key=api_key)"
      ],
      "metadata": {
        "id": "6MGzF0FMlIKH"
      },
      "execution_count": 84,
      "outputs": []
    },
    {
      "cell_type": "code",
      "source": [
        "generation_config = {\n",
        "  \"candidate_count\": 1,\n",
        "  \"temperature\": 0.5,\n",
        "}"
      ],
      "metadata": {
        "id": "L1fEYjUsm9_a"
      },
      "execution_count": 85,
      "outputs": []
    },
    {
      "cell_type": "markdown",
      "source": [
        "**Parametrizando um rigoroso cuidado de segurança para o conteúdo que será exibido antes de iniciar o chabot devido ao tema ser sensível ao usuário**"
      ],
      "metadata": {
        "id": "b3Oo-y3w0FKK"
      }
    },
    {
      "cell_type": "code",
      "source": [
        "safety_settings = [\n",
        "  {\n",
        "    \"category\": \"HARM_CATEGORY_HARASSMENT\",\n",
        "    \"threshold\": \"BLOCK_LOW_AND_ABOVE\"\n",
        "  },\n",
        "  {\n",
        "    \"category\": \"HARM_CATEGORY_HATE_SPEECH\",\n",
        "    \"threshold\": \"BLOCK_LOW_AND_ABOVE\"\n",
        "  },\n",
        "  {\n",
        "    \"category\": \"HARM_CATEGORY_SEXUALLY_EXPLICIT\",\n",
        "    \"threshold\": \"BLOCK_LOW_AND_ABOVE\"\n",
        "  },\n",
        "  {\n",
        "    \"category\": \"HARM_CATEGORY_DANGEROUS_CONTENT\",\n",
        "    \"threshold\": \"BLOCK_LOW_AND_ABOVE\"\n",
        "  },\n",
        "]"
      ],
      "metadata": {
        "id": "29_TAB-mnAEp"
      },
      "execution_count": 86,
      "outputs": []
    },
    {
      "cell_type": "code",
      "source": [
        "model = genai.GenerativeModel(model_name='gemini-1.0-pro',\n",
        "                                  generation_config=generation_config,\n",
        "                                  safety_settings=safety_settings,)"
      ],
      "metadata": {
        "id": "4b9G42pznCG8"
      },
      "execution_count": 87,
      "outputs": []
    },
    {
      "cell_type": "markdown",
      "source": [
        "Parametrizando variáveis que serão usadas para compor o diálogo do chatbot.\n",
        "\n",
        "NOTA: No README do github terá um breve contexto para a geração de informações que procura o melhor para o usuário.\n",
        "\n"
      ],
      "metadata": {
        "id": "6tzLPF6q0pIc"
      }
    },
    {
      "cell_type": "code",
      "source": [
        "dicas_positivas = [\n",
        "    \"Lembre-se de respirar fundo e se concentrar no presente.\",\n",
        "    \"Que tal tentar algo novo hoje? Experimente uma nova receita ou hobby.\",\n",
        "    \"Faça uma lista de coisas pelas quais você é grato.\",\n",
        "    \"Reserve um tempo para se conectar com a natureza. Um passeio ao ar livre pode fazer maravilhas.\",\n",
        "    \"Ouça sua música favorita e deixe-se levar pela melodia.\",\n",
        "    \"Pratique a gentileza consigo mesmo. Você merece compaixão e compreensão.\",\n",
        "    \"Cultive a positividade. Concentre-se nos aspectos bons da vida.\",\n",
        "    \"Defina metas realistas e celebre cada conquista, por menor que seja.\",\n",
        "    \"Abrace a imperfeição. Ninguém é perfeito e tudo bem.\",\n",
        "    \"Reserve um tempo para relaxar e recarregar as energias. Você precisa disso.\",\n",
        "    \"Seja gentil com os outros. A gentileza é contagiosa.\",\n",
        "    \"Conecte-se com pessoas queridas. A interação social é fundamental.\",\n",
        "    \"Pratique a gratidão. Agradeça pelas coisas boas em sua vida.\",\n",
        "    \"Movimente-se! O exercício físico libera endorfinas que melhoram o humor.\",\n",
        "    \"Tenha uma boa noite de sono. O descanso é essencial para a saúde mental.\",\n",
        "    \"Alimente-se de forma saudável. Uma dieta equilibrada impacta positivamente o bem-estar.\",\n",
        "    \"Hidrate-se! Beba bastante água ao longo do dia.\",\n",
        "    \"Faça algo que você ama todos os dias, mesmo que seja por alguns minutos.\",\n",
        "    \"Aprenda algo novo. O aprendizado estimula a mente e traz novas perspectivas.\",\n",
        "    \"Ajude alguém. O ato de ajudar faz bem para a alma.\",\n",
        "    \"Sorria! Um simples sorriso pode melhorar seu humor.\",\n",
        "    \"Perdoe a si mesmo e aos outros. Guardar rancor faz mal à saúde mental.\",\n",
        "    \"Pratique a autocompaixão. Seja gentil consigo mesmo, especialmente em momentos difíceis.\",\n",
        "    \"Concentre-se em seus pontos fortes. Reconheça suas habilidades e talentos.\",\n",
        "    \"Aceite as mudanças. A vida é um processo constante de transformação.\",\n",
        "    \"Seja paciente consigo mesmo. As coisas levam tempo.\",\n",
        "    \"Encontre beleza no dia a dia. Pequenos detalhes podem trazer alegria.\",\n",
        "    \"Viva o presente. Não se prenda ao passado ou se preocupe com o futuro.\",\n",
        "    \"Pratique a atenção plena. Concentre-se no momento presente, sem julgamentos.\",\n",
        "    \"Cultive a esperança. Acredite que coisas boas podem acontecer.\",\n",
        "    \"Não tenha medo de pedir ajuda quando precisar. Buscar apoio é sinal de força.\",\n",
        "    \"Lembre-se de que você é forte e capaz de superar os desafios.\",\n",
        "    \"Seja autêntico. Abrace sua individualidade.\",\n",
        "    \"Expresse sua criatividade. Encontre maneiras de expressar seus talentos.\",\n",
        "    \"Estabeleça limites saudáveis. Aprenda a dizer não quando necessário.\",\n",
        "    \"Desafie seus pensamentos negativos. Questione a validade de pensamentos distorcidos.\",\n",
        "    \"Conecte-se com sua espiritualidade. A fé pode trazer conforto e esperança.\",\n",
        "    \"Passe tempo com animais de estimação. Animais podem trazer alegria e companhia.\",\n",
        "    \"Crie um ambiente relaxante em casa. Um espaço tranquilo favorece o bem-estar.\",\n",
        "    \"Faça uma pausa nas redes sociais. O excesso de exposição pode ser prejudicial.\",\n",
        "    \"Leia um bom livro. Mergulhar em outras histórias pode ser reconfortante.\",\n",
        "    \"Assista a um filme ou série inspiradora. O entretenimento também pode ser positivo.\",\n",
        "    \"Pratique a arte da gratidão. Escreva um diário de gratidão.\",\n",
        "    \"Medite ou faça yoga. Práticas que acalmam a mente e trazem paz interior.\",\n",
        "    \"Faça trabalho voluntário. Ajudar os outros traz propósito e satisfação.\",\n",
        "    \"Conecte-se com mentores ou pessoas inspiradoras. Buscar orientação pode ser enriquecedor.\",\n",
        "    \"Aprenda a lidar com o estresse de forma saudável. Técnicas de relaxamento podem ajudar.\",\n",
        "    \"Defina prioridades. Concentre-se no que realmente importa.\",\n",
        "    \"Simplifique sua vida. Livre-se do que é desnecessário.\",\n",
        "    \"Celebre suas conquistas. Reconheça seu próprio sucesso.\",\n",
        "    \"Não tenha medo de falhar. Erros fazem parte do processo de aprendizado.\",\n",
        "    \"Seja otimista. Uma atitude positiva faz toda a diferença.\",\n",
        "    \"Abrace a vida com entusiasmo. Encontre alegria nas pequenas coisas.\",\n",
        "    \"Seja grato por cada novo dia. Uma nova chance de recomeçar e ser feliz.\",\n",
        "    \"Cultive a paz interior. Encontre momentos de serenidade em meio ao caos.\",\n",
        "    \"Ajude a construir um mundo melhor. Seja gentil, compassivo e faça a sua parte.\",\n",
        "    \"Compartilhe amor e positividade. Espalhe felicidade por onde passar.\",\n",
        "    \"Lembre-se de que você é único e especial. Valorize seus dons e talentos.\",\n",
        "    \"Acredite em si mesmo. Você é capaz de realizar seus sonhos.\",\n",
        "    \"Não desista dos seus objetivos. Persistência é fundamental para o sucesso.\",\n",
        "    \"Seja resiliente. Supere os obstáculos com força e determinação.\",\n",
        "    \"Busque o autoconhecimento. Entenda seus valores, crenças e motivações.\",\n",
        "    \"Viva com propósito. Encontre significado em suas ações.\",\n",
        "    \"Seja gentil com seu corpo. Cuide da sua saúde física e mental.\",\n",
        "    \"Alimente sua mente com bons pensamentos. Leituras edificantes nutrem a alma.\",\n",
        "    \"Rodeie-se de pessoas positivas. Boas companhias elevam o astral.\",\n",
        "    \"Seja grato pelas dificuldades. Os desafios nos tornam mais fortes.\",\n",
        "    \"Aprenda com seus erros. Errar é humano, o importante é aprender a lição.\",\n",
        "    \"Seja paciente com o processo. As coisas acontecem no tempo certo.\",\n",
        "    \"Confie no seu potencial. Você é capaz de alcançar grandes coisas.\",\n",
        "    \"Cultive a autoestima. Reconheça seu valor e celebre suas qualidades.\",\n",
        "    \"Abrace a vida com gratidão. Agradeça pelas oportunidades e aprendizados.\",\n",
        "    \"Lembre-se de que você é amado. Há pessoas que se importam com você.\",\n",
        "    \"Não tenha medo de ser feliz. Permita-se desfrutar dos bons momentos.\",\n",
        "    \"Viva com paixão e entusiasmo. Abrace as oportunidades com alegria.\",\n",
        "    \"Faça do mundo um lugar melhor. Comece com pequenas ações de bondade.\",\n",
        "    \"Compartilhe sorrisos e gentileza. Pequenos gestos podem fazer a diferença.\",\n",
        "    \"Seja luz na vida das pessoas. Espalhe positividade e esperança por onde passar.\"\n",
        "]"
      ],
      "metadata": {
        "id": "H1hgMAki2ksd"
      },
      "execution_count": null,
      "outputs": []
    },
    {
      "cell_type": "code",
      "source": [
        "print(\"Olá, eu sou um anjo chamado Genai. Estou aqui para te ajudar. Vamos lá? Primeiramente, vamos começar com uma frase de onde eu vim?\")\n",
        "response = model.generate_content(\"Uma frase muito positiva para pessoas com depressão.\")\n",
        "to_markdown(response.text)"
      ],
      "metadata": {
        "colab": {
          "base_uri": "https://localhost:8080/",
          "height": 97
        },
        "id": "O9nTmTybxuGQ",
        "outputId": "276cfd5b-4ac4-4bdf-ac7b-545e092cae89"
      },
      "execution_count": 89,
      "outputs": [
        {
          "output_type": "stream",
          "name": "stdout",
          "text": [
            "Olá, eu sou um anjo chamado Genai. Estou aqui para te ajudar. Vamos lá? Primeiramente, vamos começar com uma frase de onde eu vim?\n"
          ]
        },
        {
          "output_type": "execute_result",
          "data": {
            "text/plain": [
              "<IPython.core.display.Markdown object>"
            ],
            "text/markdown": "> Mesmo nos dias mais escuros, a esperança é uma chama que nunca se apaga. Acredite que dias melhores virão e que você tem o poder de superar isso."
          },
          "metadata": {},
          "execution_count": 89
        }
      ]
    },
    {
      "cell_type": "markdown",
      "source": [
        "**Pergunta ao usuário como ele está se sentindo e retorna o nível de humor.**"
      ],
      "metadata": {
        "id": "jbzbtIod2xg7"
      }
    },
    {
      "cell_type": "code",
      "source": [
        "def avaliar_humor():\n",
        "  print(\"Em uma escala de 1 a 5, como você está se sentindo agora?\")\n",
        "  print(\"1 - Muito mal\")\n",
        "  print(\"2 - Mal\")\n",
        "  print(\"3 - Neutro\")\n",
        "  print(\"4 - Bem\")\n",
        "  print(\"5 - Muito bem\")\n",
        "\n",
        "  while True:\n",
        "    try:\n",
        "      humor = int(input(\"Digite o número correspondente ao seu humor: \"))\n",
        "      if 1 <= humor <= 5:\n",
        "        return humor\n",
        "      else:\n",
        "        print(\"Por favor, digite um número entre 1 e 5.\")\n",
        "    except ValueError:\n",
        "      print(\"Entrada inválida. Por favor, digite um número.\")\n"
      ],
      "metadata": {
        "id": "Rcxsvfgtt_m0"
      },
      "execution_count": 90,
      "outputs": []
    },
    {
      "cell_type": "markdown",
      "source": [
        "**Loop principal da conversa**"
      ],
      "metadata": {
        "id": "lGi0eOoD26vM"
      }
    },
    {
      "cell_type": "code",
      "source": [
        "chat = model.start_chat(history=[])\n",
        "\n",
        "ultima_acao = None  # Variável para armazenar a última ação do usuário\n",
        "\n",
        "while True:\n",
        "  nivel_humor = avaliar_humor()\n",
        "\n",
        "  if nivel_humor <= 2:\n",
        "    if ultima_acao == \"conversar\":\n",
        "      print(\"Você mencionou que não está se sentindo bem. Veja essa dica e vamos melhorando com muita fé. \")\n",
        "      print(f\"{random.choice(dicas_positivas)}\")\n",
        "      print(\"\\n\")\n",
        "    else:\n",
        "      resposta = input(\"Entendo que as coisas precisam melhorar né? Gostaria de uma dica para ajudar? (sim/não) \")\n",
        "      if resposta.lower() == \"sim\":\n",
        "        ultima_acao = \"conversar\"\n",
        "        print(f\"{random.choice(dicas_positivas)}\")\n",
        "        print(\"\\n\")\n",
        "      else:\n",
        "        print(\"Tudo bem. Estou aqui para te escutar quando quiser.\")\n",
        "        print(\"\\n\")\n",
        "  elif nivel_humor == 3:\n",
        "    print(\"Tudo bem se sentir neutro. Vamos tentar melhorar então?\")\n",
        "    resposta = input(\"Que tal uma dica para o seu dia?? (sim/não) \")\n",
        "\n",
        "    if resposta.lower() == \"sim\":\n",
        "       ultima_acao = \"conversar\"\n",
        "       print(f\"{random.choice(dicas_positivas)}\")\n",
        "       print(\"\\n\")\n",
        "    else:\n",
        "        print(\"Tudo bem. Estou aqui para te escutar quando quiser.\")\n",
        "        print(\"\\n\")\n",
        "  else:\n",
        "    print(\"Que bom que você está se sentindo bem! 😊\")\n",
        "    print(\"Preparei uma dica com muito carinho para o seu dia!\")\n",
        "    print(f\"{random.choice(dicas_positivas)}\")\n",
        "    print (\"\\n\")\n",
        "  if input(\"Digite 'fim' para encerrar a conversa ou qualquer tecla para conversar mais: \") == \"fim\":\n",
        "    break\n",
        "\n",
        "print(\"\\n\")\n",
        "print(\"Até mais! Cuide-se e conte sempre com o anjo Genai\")\n"
      ],
      "metadata": {
        "colab": {
          "base_uri": "https://localhost:8080/"
        },
        "id": "3qMAnj3M8TPg",
        "outputId": "0d4d1190-ec83-4558-c132-04ed9ac86df7"
      },
      "execution_count": 95,
      "outputs": [
        {
          "output_type": "stream",
          "name": "stdout",
          "text": [
            "Em uma escala de 1 a 5, como você está se sentindo agora?\n",
            "1 - Muito mal\n",
            "2 - Mal\n",
            "3 - Neutro\n",
            "4 - Bem\n",
            "5 - Muito bem\n",
            "Digite o número correspondente ao seu humor: 1\n",
            "Entendo que as coisas precisam melhorar né? Gostaria de uma dica para ajudar? (sim/não) sim\n",
            "Ajude a construir um mundo melhor. Seja gentil, compassivo e faça a sua parte.\n",
            "\n",
            "\n",
            "Digite 'fim' para encerrar a conversa ou qualquer tecla para conversar mais: \n",
            "Em uma escala de 1 a 5, como você está se sentindo agora?\n",
            "1 - Muito mal\n",
            "2 - Mal\n",
            "3 - Neutro\n",
            "4 - Bem\n",
            "5 - Muito bem\n",
            "Digite o número correspondente ao seu humor: 2\n",
            "Você mencionou que não está se sentindo bem. Veja essa dica e vamos melhorando com muita fé. \n",
            "Pratique a autocompaixão. Seja gentil consigo mesmo, especialmente em momentos difíceis.\n",
            "\n",
            "\n",
            "Digite 'fim' para encerrar a conversa ou qualquer tecla para conversar mais: \n",
            "Em uma escala de 1 a 5, como você está se sentindo agora?\n",
            "1 - Muito mal\n",
            "2 - Mal\n",
            "3 - Neutro\n",
            "4 - Bem\n",
            "5 - Muito bem\n",
            "Digite o número correspondente ao seu humor: 3\n",
            "Tudo bem se sentir neutro. Vamos tentar melhorar então?\n",
            "Que tal uma dica para o seu dia?? (sim/não) sim\n",
            "Seja autêntico. Abrace sua individualidade.\n",
            "\n",
            "\n",
            "Digite 'fim' para encerrar a conversa ou qualquer tecla para conversar mais: \n",
            "Em uma escala de 1 a 5, como você está se sentindo agora?\n",
            "1 - Muito mal\n",
            "2 - Mal\n",
            "3 - Neutro\n",
            "4 - Bem\n",
            "5 - Muito bem\n",
            "Digite o número correspondente ao seu humor: 4\n",
            "Que bom que você está se sentindo bem! 😊\n",
            "Preparei uma dica com muito carinho para o seu dia!\n",
            "Confie no seu potencial. Você é capaz de alcançar grandes coisas.\n",
            "\n",
            "\n",
            "Digite 'fim' para encerrar a conversa ou qualquer tecla para conversar mais: \n",
            "Em uma escala de 1 a 5, como você está se sentindo agora?\n",
            "1 - Muito mal\n",
            "2 - Mal\n",
            "3 - Neutro\n",
            "4 - Bem\n",
            "5 - Muito bem\n",
            "Digite o número correspondente ao seu humor: 5\n",
            "Que bom que você está se sentindo bem! 😊\n",
            "Preparei uma dica com muito carinho para o seu dia!\n",
            "Estabeleça limites saudáveis. Aprenda a dizer não quando necessário.\n",
            "\n",
            "\n",
            "Digite 'fim' para encerrar a conversa ou qualquer tecla para conversar mais: \n",
            "Em uma escala de 1 a 5, como você está se sentindo agora?\n",
            "1 - Muito mal\n",
            "2 - Mal\n",
            "3 - Neutro\n",
            "4 - Bem\n",
            "5 - Muito bem\n",
            "Digite o número correspondente ao seu humor: 1\n",
            "Você mencionou que não está se sentindo bem. Veja essa dica e vamos melhorando com muita fé. \n",
            "Pratique a autocompaixão. Seja gentil consigo mesmo, especialmente em momentos difíceis.\n",
            "\n",
            "\n",
            "Digite 'fim' para encerrar a conversa ou qualquer tecla para conversar mais: 2\n",
            "Em uma escala de 1 a 5, como você está se sentindo agora?\n",
            "1 - Muito mal\n",
            "2 - Mal\n",
            "3 - Neutro\n",
            "4 - Bem\n",
            "5 - Muito bem\n",
            "Digite o número correspondente ao seu humor: 2\n",
            "Você mencionou que não está se sentindo bem. Veja essa dica e vamos melhorando com muita fé. \n",
            "Aceite as mudanças. A vida é um processo constante de transformação.\n",
            "\n",
            "\n",
            "Digite 'fim' para encerrar a conversa ou qualquer tecla para conversar mais: \n",
            "Em uma escala de 1 a 5, como você está se sentindo agora?\n",
            "1 - Muito mal\n",
            "2 - Mal\n",
            "3 - Neutro\n",
            "4 - Bem\n",
            "5 - Muito bem\n",
            "Digite o número correspondente ao seu humor: 3\n",
            "Tudo bem se sentir neutro. Vamos tentar melhorar então?\n",
            "Que tal uma dica para o seu dia?? (sim/não) não\n",
            "Tudo bem. Estou aqui para te escutar quando quiser.\n",
            "\n",
            "\n",
            "Digite 'fim' para encerrar a conversa ou qualquer tecla para conversar mais: \n",
            "Em uma escala de 1 a 5, como você está se sentindo agora?\n",
            "1 - Muito mal\n",
            "2 - Mal\n",
            "3 - Neutro\n",
            "4 - Bem\n",
            "5 - Muito bem\n",
            "Digite o número correspondente ao seu humor: 3\n",
            "Tudo bem se sentir neutro. Vamos tentar melhorar então?\n",
            "Que tal uma dica para o seu dia?? (sim/não) sim\n",
            "Aceite as mudanças. A vida é um processo constante de transformação.\n",
            "\n",
            "\n",
            "Digite 'fim' para encerrar a conversa ou qualquer tecla para conversar mais: 3\n",
            "Em uma escala de 1 a 5, como você está se sentindo agora?\n",
            "1 - Muito mal\n",
            "2 - Mal\n",
            "3 - Neutro\n",
            "4 - Bem\n",
            "5 - Muito bem\n",
            "Digite o número correspondente ao seu humor: 3\n",
            "Tudo bem se sentir neutro. Vamos tentar melhorar então?\n",
            "Que tal uma dica para o seu dia?? (sim/não) sim\n",
            "Seja resiliente. Supere os obstáculos com força e determinação.\n",
            "\n",
            "\n",
            "Digite 'fim' para encerrar a conversa ou qualquer tecla para conversar mais: fim\n",
            "\n",
            "\n",
            "Até mais! Cuide-se e conte sempre com o anjo Genai\n"
          ]
        }
      ]
    }
  ]
}